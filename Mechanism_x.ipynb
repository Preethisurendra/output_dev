{
  "nbformat": 4,
  "nbformat_minor": 0,
  "metadata": {
    "colab": {
      "provenance": []
    },
    "kernelspec": {
      "name": "python3",
      "display_name": "Python 3"
    },
    "language_info": {
      "name": "python"
    }
  },
  "cells": [
    {
      "cell_type": "code",
      "source": [
        "pip install boto3"
      ],
      "metadata": {
        "colab": {
          "base_uri": "https://localhost:8080/"
        },
        "id": "Y8CMMFMbDVrd",
        "outputId": "b3954393-1d10-4c07-8ea9-5e1944c5bdcd"
      },
      "execution_count": 1,
      "outputs": [
        {
          "output_type": "stream",
          "name": "stdout",
          "text": [
            "Collecting boto3\n",
            "  Downloading boto3-1.38.27-py3-none-any.whl.metadata (6.6 kB)\n",
            "Collecting botocore<1.39.0,>=1.38.27 (from boto3)\n",
            "  Downloading botocore-1.38.27-py3-none-any.whl.metadata (5.7 kB)\n",
            "Collecting jmespath<2.0.0,>=0.7.1 (from boto3)\n",
            "  Downloading jmespath-1.0.1-py3-none-any.whl.metadata (7.6 kB)\n",
            "Collecting s3transfer<0.14.0,>=0.13.0 (from boto3)\n",
            "  Downloading s3transfer-0.13.0-py3-none-any.whl.metadata (1.7 kB)\n",
            "Requirement already satisfied: python-dateutil<3.0.0,>=2.1 in /usr/local/lib/python3.11/dist-packages (from botocore<1.39.0,>=1.38.27->boto3) (2.9.0.post0)\n",
            "Requirement already satisfied: urllib3!=2.2.0,<3,>=1.25.4 in /usr/local/lib/python3.11/dist-packages (from botocore<1.39.0,>=1.38.27->boto3) (2.4.0)\n",
            "Requirement already satisfied: six>=1.5 in /usr/local/lib/python3.11/dist-packages (from python-dateutil<3.0.0,>=2.1->botocore<1.39.0,>=1.38.27->boto3) (1.17.0)\n",
            "Downloading boto3-1.38.27-py3-none-any.whl (139 kB)\n",
            "\u001b[2K   \u001b[90m━━━━━━━━━━━━━━━━━━━━━━━━━━━━━━━━━━━━━━━━\u001b[0m \u001b[32m139.9/139.9 kB\u001b[0m \u001b[31m3.7 MB/s\u001b[0m eta \u001b[36m0:00:00\u001b[0m\n",
            "\u001b[?25hDownloading botocore-1.38.27-py3-none-any.whl (13.6 MB)\n",
            "\u001b[2K   \u001b[90m━━━━━━━━━━━━━━━━━━━━━━━━━━━━━━━━━━━━━━━━\u001b[0m \u001b[32m13.6/13.6 MB\u001b[0m \u001b[31m100.1 MB/s\u001b[0m eta \u001b[36m0:00:00\u001b[0m\n",
            "\u001b[?25hDownloading jmespath-1.0.1-py3-none-any.whl (20 kB)\n",
            "Downloading s3transfer-0.13.0-py3-none-any.whl (85 kB)\n",
            "\u001b[2K   \u001b[90m━━━━━━━━━━━━━━━━━━━━━━━━━━━━━━━━━━━━━━━━\u001b[0m \u001b[32m85.2/85.2 kB\u001b[0m \u001b[31m7.8 MB/s\u001b[0m eta \u001b[36m0:00:00\u001b[0m\n",
            "\u001b[?25hInstalling collected packages: jmespath, botocore, s3transfer, boto3\n",
            "Successfully installed boto3-1.38.27 botocore-1.38.27 jmespath-1.0.1 s3transfer-0.13.0\n"
          ]
        }
      ]
    },
    {
      "cell_type": "code",
      "execution_count": 3,
      "metadata": {
        "colab": {
          "base_uri": "https://localhost:8080/"
        },
        "id": "9KrPOD8t-LJ4",
        "outputId": "44045630-50aa-4e9d-a36f-364cfeadeadc"
      },
      "outputs": [
        {
          "output_type": "stream",
          "name": "stdout",
          "text": [
            "Uploaded chunk_1.csv\n",
            "Uploaded chunk_2.csv\n",
            "Uploaded chunk_3.csv\n",
            "Uploaded chunk_4.csv\n",
            "Uploaded chunk_5.csv\n",
            "Uploaded chunk_6.csv\n",
            "Uploaded chunk_7.csv\n",
            "Uploaded chunk_8.csv\n",
            "Uploaded chunk_9.csv\n",
            "Uploaded chunk_10.csv\n",
            "Uploaded chunk_11.csv\n",
            "Uploaded chunk_12.csv\n",
            "Uploaded chunk_13.csv\n",
            "Uploaded chunk_14.csv\n",
            "Uploaded chunk_15.csv\n",
            "Uploaded chunk_16.csv\n",
            "Uploaded chunk_17.csv\n",
            "Uploaded chunk_18.csv\n",
            "Uploaded chunk_19.csv\n",
            "Uploaded chunk_20.csv\n",
            "Uploaded chunk_21.csv\n",
            "Uploaded chunk_22.csv\n",
            "Uploaded chunk_23.csv\n",
            "Uploaded chunk_24.csv\n",
            "Uploaded chunk_25.csv\n",
            "Uploaded chunk_26.csv\n",
            "Uploaded chunk_27.csv\n",
            "Uploaded chunk_28.csv\n",
            "Uploaded chunk_29.csv\n",
            "Uploaded chunk_30.csv\n",
            "Uploaded chunk_31.csv\n",
            "Uploaded chunk_32.csv\n",
            "Uploaded chunk_33.csv\n",
            "Uploaded chunk_34.csv\n",
            "Uploaded chunk_35.csv\n",
            "Uploaded chunk_36.csv\n",
            "Uploaded chunk_37.csv\n",
            "Uploaded chunk_38.csv\n",
            "Uploaded chunk_39.csv\n",
            "Uploaded chunk_40.csv\n",
            "Uploaded chunk_41.csv\n",
            "Uploaded chunk_42.csv\n",
            "Uploaded chunk_43.csv\n",
            "Uploaded chunk_44.csv\n",
            "Uploaded chunk_45.csv\n",
            "Uploaded chunk_46.csv\n",
            "Uploaded chunk_47.csv\n",
            "Uploaded chunk_48.csv\n",
            "Uploaded chunk_49.csv\n",
            "Uploaded chunk_50.csv\n",
            "Uploaded chunk_51.csv\n",
            "Uploaded chunk_52.csv\n",
            "Uploaded chunk_53.csv\n",
            "Uploaded chunk_54.csv\n",
            "Uploaded chunk_55.csv\n",
            "Uploaded chunk_56.csv\n",
            "Uploaded chunk_57.csv\n",
            "Uploaded chunk_58.csv\n",
            "Uploaded chunk_59.csv\n",
            "Uploaded chunk_60.csv\n"
          ]
        }
      ],
      "source": [
        "import pandas as pd\n",
        "import boto3\n",
        "import time\n",
        "\n",
        "# AWS setup\n",
        "s3 = boto3.client('s3',\n",
        "                  aws_access_key_id='AKIAUCSW4SBQ6ATXXXX',\n",
        "                  aws_secret_access_key='iRpQ3htMoXcrGjJJax80lVTDJFqQaGRfXXXXXX')\n",
        "\n",
        "bucket = 'banktransactions1'\n",
        "prefix = 'raw/chunk_'\n",
        "transactions_path = '/content/transactions.csv'\n",
        "\n",
        "# Read all data\n",
        "df = pd.read_csv(transactions_path)\n",
        "chunk_size = 10000\n",
        "total_chunks = len(df) // chunk_size + 1\n",
        "\n",
        "for i in range(total_chunks):\n",
        "    start = i * chunk_size\n",
        "    end = start + chunk_size\n",
        "    chunk_df = df[start:end]\n",
        "\n",
        "    if not chunk_df.empty:\n",
        "        filename = f'chunk_{i+1}.csv'\n",
        "        chunk_df.to_csv(filename, index=False)\n",
        "\n",
        "        # Upload to S3\n",
        "        s3.upload_file(filename, bucket, f'raw/{filename}')\n",
        "        print(f\"Uploaded {filename}\")\n",
        "        time.sleep(1)\n"
      ]
    }
  ]
}